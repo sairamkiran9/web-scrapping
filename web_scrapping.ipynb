{
  "nbformat": 4,
  "nbformat_minor": 0,
  "metadata": {
    "colab": {
      "name": "web scrap final-Copy1.ipynb",
      "provenance": [],
      "collapsed_sections": []
    },
    "kernelspec": {
      "display_name": "Python 3",
      "language": "python",
      "name": "python3"
    },
    "language_info": {
      "codemirror_mode": {
        "name": "ipython",
        "version": 3
      },
      "file_extension": ".py",
      "mimetype": "text/x-python",
      "name": "python",
      "nbconvert_exporter": "python",
      "pygments_lexer": "ipython3",
      "version": "3.7.3"
    }
  },
  "cells": [
    {
      "cell_type": "markdown",
      "metadata": {
        "id": "igVhAzL_h_V4"
      },
      "source": [
        "# Web Scraping"
      ]
    },
    {
      "cell_type": "markdown",
      "metadata": {
        "id": "zfR6mjENh_V6"
      },
      "source": [
        "Web scraping, also known as web data extraction, is the process of retrieving or “scraping” data from a website. Unlike the mundane, mind-numbing process of manually extracting data, web scraping uses intelligent automation to retrieve hundreds, millions, or even billions of data points from the internet’s seemingly endless frontier.\n",
        "\n",
        "Web scraping a web page involves fetching it and extracting from it. Fetching is the downloading of a page (which a browser does when you view the page). Therefore, web crawling is a main component of web scraping, to fetch pages for later processing. Once fetched, then extraction can take place. The content of a page may be parsed, searched, reformatted, its data copied into a spreadsheet, and so on. Web scrapers typically take something out of a page, to make use of it for another purpose somewhere else.\n",
        "\n",
        "Web scraping is used for contact scraping, and as a component of applications used for web indexing, web mining and data mining, online price change monitoring and price comparison, product review scraping (to watch the competition), gathering real estate listings, weather data monitoring, website change detection, research, tracking online presence and reputation, web mashup and, web data integration.\n",
        "\n",
        "There are methods that some websites use to prevent web scraping, such as detecting and disallowing bots from crawling (viewing) their pages. In response, there are web scraping systems that rely on using techniques in DOM parsing, computer vision and natural language processing to simulate human browsing to enable gathering web page content for offline parsing."
      ]
    },
    {
      "cell_type": "markdown",
      "metadata": {
        "id": "Pn3WyeuLh_WB"
      },
      "source": [
        "## Youtube content classification using Web Scraping "
      ]
    },
    {
      "cell_type": "markdown",
      "metadata": {
        "id": "Z7BGgRg3eHGU"
      },
      "source": [
        "In this project we extract data from official Youtube page using web scrapping idea and processed that data to build random forest model in order to classify a particular video into following 6 categories and finally we calculated the accuracy of our model using this data.\n",
        "\n",
        "Travel,\n",
        "Science,\n",
        "Food,\n",
        "Gaming,\n",
        "Art n Dance,\n",
        "History \n",
        "\n"
      ]
    },
    {
      "cell_type": "markdown",
      "metadata": {
        "id": "syb6pS1Ch_WC"
      },
      "source": [
        "### Method used:"
      ]
    },
    {
      "cell_type": "markdown",
      "metadata": {
        "id": "cXRT4gZVh_WC"
      },
      "source": [
        "Firstly we used Selenium module and Chrome browser to scrap data from Youtube. For chrome browser automation we used chromedrive application to automate chrome which helps in navigation to work with multiple windows and frames. The scrapped data is preprocessed and stored using pandas library.Then this structured data is tokenised using nltk library.Then for this final data we have done a classification analysis using one of the well known machine learning algorithm Random Forest Classifer to test the accuracy of youtube search content."
      ]
    },
    {
      "cell_type": "markdown",
      "metadata": {
        "id": "Q_duNBDgh_WD"
      },
      "source": [
        "__Code:__"
      ]
    },
    {
      "cell_type": "code",
      "metadata": {
        "id": "ATVQCmCJds8m"
      },
      "source": [
        "# Libraries\n",
        "from selenium import webdriver \n",
        "import pandas as pd \n",
        "from selenium.webdriver.common.by import By \n",
        "from selenium.webdriver.support.ui import WebDriverWait \n",
        "from selenium.webdriver.support import expected_conditions as EC"
      ],
      "execution_count": null,
      "outputs": []
    },
    {
      "cell_type": "markdown",
      "metadata": {
        "id": "MekqMI0pek2O"
      },
      "source": [
        "Connect to chrome using web driver to automate it and then we need to set up the driver to fetch the content of the URL from YouTube."
      ]
    },
    {
      "cell_type": "code",
      "metadata": {
        "scrolled": true,
        "id": "wp3r3iU2h_WE"
      },
      "source": [
        "driver = webdriver.Chrome()     #the chromedriver.exe should be in the same working directory of your code."
      ],
      "execution_count": null,
      "outputs": []
    },
    {
      "cell_type": "code",
      "metadata": {
        "id": "QiEkFvRvds8u"
      },
      "source": [
        "driver.get(\"https://www.youtube.com/results?search_query=travel\")"
      ],
      "execution_count": null,
      "outputs": []
    },
    {
      "cell_type": "code",
      "metadata": {
        "id": "lDYUEXy2ds8x"
      },
      "source": [
        "user_data = driver.find_elements_by_xpath('//*[@id=\"video-title\"]')\n",
        "links = []\n",
        "for i in user_data:\n",
        "            links.append(i.get_attribute('href'))\n",
        "\n",
        "print(len(links))"
      ],
      "execution_count": null,
      "outputs": []
    },
    {
      "cell_type": "markdown",
      "metadata": {
        "id": "o2ur2bMefTdT"
      },
      "source": [
        "The above code will fetch the “href” attribute of the anchor tag we searched for.\n",
        "\n",
        "Now, we need to create a dataframe with 4 columns – “link”, “title”, “description”, and “category”. We will store the details of videos for different categories in these columns:"
      ]
    },
    {
      "cell_type": "code",
      "metadata": {
        "id": "-c0D5tnXds82"
      },
      "source": [
        "df_travel = pd.DataFrame(columns = ['link', 'title', 'description', 'category'])"
      ],
      "execution_count": null,
      "outputs": []
    },
    {
      "cell_type": "code",
      "metadata": {
        "id": "pIY3eWnCds87",
        "scrolled": true
      },
      "source": [
        "#Scrapping the data from the loaded links.\n",
        "wait = WebDriverWait(driver, 100)\n",
        "v_category = \"Travel\"\n",
        "for x in links:\n",
        "    if x!=None:\n",
        "            driver.get(x)\n",
        "            v_id = x.strip('https://www.youtube.com/watch?v=')\n",
        "            v_title = wait.until(EC.presence_of_element_located(\n",
        "                           (By.CSS_SELECTOR,\"h1.title yt-formatted-string\"))).text\n",
        "            v_description =  wait.until(EC.presence_of_element_located(\n",
        "                                         (By.CSS_SELECTOR,\"div#description yt-formatted-string\"))).text\n",
        "            df_travel.loc[len(df_travel)] = [v_id, v_title, v_description, v_category]"
      ],
      "execution_count": null,
      "outputs": []
    },
    {
      "cell_type": "code",
      "metadata": {
        "id": "kcirlM7xds8_"
      },
      "source": [
        "df_travel.to_csv (r'C:/Users/mssra/OneDrive/Desktop/travel.csv', index = False, header=True)\n",
        "df_travel = pd.read_csv(\"C:/Users/mssra/OneDrive/Desktop/travel.csv\")"
      ],
      "execution_count": null,
      "outputs": []
    },
    {
      "cell_type": "code",
      "metadata": {
        "id": "l9_hgFhDds9D"
      },
      "source": [
        "driver.get(\"https://www.youtube.com/results?search_query=science\")"
      ],
      "execution_count": null,
      "outputs": []
    },
    {
      "cell_type": "code",
      "metadata": {
        "id": "XtdalkU0ds9H"
      },
      "source": [
        "user_data = driver.find_elements_by_xpath('//*[@id=\"video-title\"]')\n",
        "links = []\n",
        "for i in user_data:\n",
        "            links.append(i.get_attribute('href'))\n",
        "\n",
        "print(len(links))"
      ],
      "execution_count": null,
      "outputs": []
    },
    {
      "cell_type": "code",
      "metadata": {
        "id": "RdJsAQqXds9K"
      },
      "source": [
        "df_science = pd.DataFrame(columns = ['link', 'title', 'description', 'category'])"
      ],
      "execution_count": null,
      "outputs": []
    },
    {
      "cell_type": "code",
      "metadata": {
        "id": "xIxnidRzds9N"
      },
      "source": [
        "wait = WebDriverWait(driver, 100)\n",
        "v_category = \"Science\"\n",
        "for x in links:\n",
        "    if x!=None:\n",
        "            driver.get(x)\n",
        "            v_id = x.strip('https://www.youtube.com/watch?v=')\n",
        "            v_title = wait.until(EC.presence_of_element_located(\n",
        "                           (By.CSS_SELECTOR,\"h1.title yt-formatted-string\"))).text\n",
        "            v_description =  wait.until(EC.presence_of_element_located(\n",
        "                                         (By.CSS_SELECTOR,\"div#description yt-formatted-string\"))).text\n",
        "            df_science.loc[len(df_science)] = [v_id, v_title, v_description, v_category]"
      ],
      "execution_count": null,
      "outputs": []
    },
    {
      "cell_type": "code",
      "metadata": {
        "id": "71NwOdg5ds9Q"
      },
      "source": [
        "df_science.to_csv (r'C:/Users/mssra/OneDrive/Desktop/science.csv', index = False, header=True)\n"
      ],
      "execution_count": null,
      "outputs": []
    },
    {
      "cell_type": "code",
      "metadata": {
        "id": "UfD5Mfkfds9U"
      },
      "source": [
        "driver.get(\"https://www.youtube.com/results?search_query=food\")"
      ],
      "execution_count": null,
      "outputs": []
    },
    {
      "cell_type": "code",
      "metadata": {
        "id": "mPyfcYhFds9Y"
      },
      "source": [
        "user_data = driver.find_elements_by_xpath('//*[@id=\"video-title\"]')\n",
        "links = []\n",
        "for i in user_data:\n",
        "            links.append(i.get_attribute('href'))\n",
        "\n",
        "print(len(links))"
      ],
      "execution_count": null,
      "outputs": []
    },
    {
      "cell_type": "code",
      "metadata": {
        "id": "PiK_afBAds9c"
      },
      "source": [
        "df_food = pd.DataFrame(columns = ['link', 'title', 'description', 'category'])"
      ],
      "execution_count": null,
      "outputs": []
    },
    {
      "cell_type": "code",
      "metadata": {
        "id": "7j17KdSjds9i"
      },
      "source": [
        "wait = WebDriverWait(driver, 100)\n",
        "v_category = \"Food\"\n",
        "for x in links:\n",
        "    if x!=None:\n",
        "            driver.get(x)\n",
        "            v_id = x.strip('https://www.youtube.com/watch?v=')\n",
        "            v_title = wait.until(EC.presence_of_element_located(\n",
        "                           (By.CSS_SELECTOR,\"h1.title yt-formatted-string\"))).text\n",
        "            v_description =  wait.until(EC.presence_of_element_located(\n",
        "                                         (By.CSS_SELECTOR,\"div#description yt-formatted-string\"))).text\n",
        "            df_food.loc[len(df_food)] = [v_id, v_title, v_description, v_category]"
      ],
      "execution_count": null,
      "outputs": []
    },
    {
      "cell_type": "code",
      "metadata": {
        "id": "pRpw-SC9ds9o",
        "scrolled": true
      },
      "source": [
        "df_food.to_csv (r'C:/Users/mssra/OneDrive/Desktop/food.csv', index = False, header=True)"
      ],
      "execution_count": null,
      "outputs": []
    },
    {
      "cell_type": "code",
      "metadata": {
        "id": "FVUkJqWzds9u"
      },
      "source": [
        "driver.get(\"https://www.youtube.com/results?search_query=history\")"
      ],
      "execution_count": null,
      "outputs": []
    },
    {
      "cell_type": "code",
      "metadata": {
        "id": "ewNvtn0bds9z"
      },
      "source": [
        "user_data = driver.find_elements_by_xpath('//*[@id=\"video-title\"]')\n",
        "links = []\n",
        "for i in user_data:\n",
        "            links.append(i.get_attribute('href'))\n",
        "\n",
        "print(len(links))"
      ],
      "execution_count": null,
      "outputs": []
    },
    {
      "cell_type": "code",
      "metadata": {
        "id": "PEOsEX68ds96"
      },
      "source": [
        "df_history = pd.DataFrame(columns = ['link', 'title', 'description', 'category'])"
      ],
      "execution_count": null,
      "outputs": []
    },
    {
      "cell_type": "markdown",
      "metadata": {
        "id": "khPQypG3ds9-"
      },
      "source": [
        "__Data Cleaning__:<br>\n",
        "Sometimes when we extract data we may extract NULL values.It may happen because of week internet connection or due to expired link.We have to remove this type of data or add some replacement data in that place."
      ]
    },
    {
      "cell_type": "code",
      "metadata": {
        "id": "J-8zsEC1ds-F"
      },
      "source": [
        "wait = WebDriverWait(driver, 100)\n",
        "v_category = \"history\"\n",
        "for x in links:\n",
        "    if x!=None:\n",
        "            driver.get(x)\n",
        "            v_id = x.strip('https://www.youtube.com/watch?v=')\n",
        "            v_title = wait.until(EC.presence_of_element_located(\n",
        "                           (By.CSS_SELECTOR,\"h1.title yt-formatted-string\"))).text\n",
        "            v_description =  wait.until(EC.presence_of_element_located(\n",
        "                                         (By.CSS_SELECTOR,\"div#description yt-formatted-string\"))).text\n",
        "            df_history.loc[len(df_history)] = [v_id, v_title, v_description, v_category]"
      ],
      "execution_count": null,
      "outputs": []
    },
    {
      "cell_type": "code",
      "metadata": {
        "id": "SxCRH648ds-J",
        "scrolled": true
      },
      "source": [
        "df_history.to_csv (r'C:/Users/mssra/OneDrive/Desktop/history.csv', index = False, header=True)"
      ],
      "execution_count": null,
      "outputs": []
    },
    {
      "cell_type": "code",
      "metadata": {
        "id": "EagEPk26ds-N"
      },
      "source": [
        "driver.get(\"https://www.youtube.com/results?search_query=gaming\")"
      ],
      "execution_count": null,
      "outputs": []
    },
    {
      "cell_type": "code",
      "metadata": {
        "id": "8lBHhcy2ds-Q"
      },
      "source": [
        "user_data = driver.find_elements_by_xpath('//*[@id=\"video-title\"]')\n",
        "links = []\n",
        "for i in user_data:\n",
        "            links.append(i.get_attribute('href'))\n",
        "\n",
        "print(len(links))"
      ],
      "execution_count": null,
      "outputs": []
    },
    {
      "cell_type": "code",
      "metadata": {
        "id": "N1V8sXuzds-T"
      },
      "source": [
        "df_gaming= pd.DataFrame(columns = ['link', 'title', 'description', 'category'])\n"
      ],
      "execution_count": null,
      "outputs": []
    },
    {
      "cell_type": "code",
      "metadata": {
        "id": "0L32-i8tds-W"
      },
      "source": [
        "wait = WebDriverWait(driver, 100)\n",
        "v_category = \"gaming\"\n",
        "for x in links:\n",
        "    if x!=None:\n",
        "            driver.get(x)\n",
        "            v_id = x.strip('https://www.youtube.com/watch?v=')\n",
        "            v_title = wait.until(EC.presence_of_element_located(\n",
        "                           (By.CSS_SELECTOR,\"h1.title yt-formatted-string\"))).text\n",
        "            v_description =  wait.until(EC.presence_of_element_located(\n",
        "                                         (By.CSS_SELECTOR,\"div#description yt-formatted-string\"))).text\n",
        "            df_gaming.loc[len(df_manufacturing)] = [v_id, v_title, v_description, v_category]"
      ],
      "execution_count": null,
      "outputs": []
    },
    {
      "cell_type": "code",
      "metadata": {
        "id": "dm7_w2pxds-Z",
        "scrolled": true
      },
      "source": [
        "df_gaming.to_csv (r'C:/Users/mssra/OneDrive/Desktop/gaming.csv', index = False, header=True)"
      ],
      "execution_count": null,
      "outputs": []
    },
    {
      "cell_type": "code",
      "metadata": {
        "id": "hz-0hvsfds-f"
      },
      "source": [
        "driver.get(\"https://www.youtube.com/results?search_query=artndance\")"
      ],
      "execution_count": null,
      "outputs": []
    },
    {
      "cell_type": "code",
      "metadata": {
        "id": "fNaTIARjds-i"
      },
      "source": [
        "user_data = driver.find_elements_by_xpath('//*[@id=\"video-title\"]')\n",
        "links = []\n",
        "for i in user_data:\n",
        "            links.append(i.get_attribute('href'))\n",
        "\n",
        "print(len(links))"
      ],
      "execution_count": null,
      "outputs": []
    },
    {
      "cell_type": "code",
      "metadata": {
        "id": "Dfd5hkgUds-m"
      },
      "source": [
        "df_artndance = pd.DataFrame(columns = ['link', 'title', 'description', 'category'])"
      ],
      "execution_count": null,
      "outputs": []
    },
    {
      "cell_type": "code",
      "metadata": {
        "id": "tiaZ9wPVds-p"
      },
      "source": [
        "wait = WebDriverWait(driver, 100)\n",
        "v_category = \"artndance\"\n",
        "for x in links[:420]:\n",
        "    if x!=None:\n",
        "            driver.get(x)\n",
        "            v_id = x.strip('https://www.youtube.com/watch?v=')\n",
        "            v_title = wait.until(EC.presence_of_element_located(\n",
        "                           (By.CSS_SELECTOR,\"h1.title yt-formatted-string\"))).text\n",
        "            v_description =  wait.until(EC.presence_of_element_located(\n",
        "                                         (By.CSS_SELECTOR,\"div#description yt-formatted-string\"))).text\n",
        "            df_artndance.loc[len(df_artndance)] = [v_id, v_title, v_description, v_category]"
      ],
      "execution_count": null,
      "outputs": []
    },
    {
      "cell_type": "code",
      "metadata": {
        "id": "i0JbTxUgds-s",
        "scrolled": true
      },
      "source": [
        "df_artndance.to_csv (r'C:/Users/mssra/OneDrive/Desktop/artndance.csv', index = False, header=True)"
      ],
      "execution_count": null,
      "outputs": []
    },
    {
      "cell_type": "markdown",
      "metadata": {
        "id": "RrjYR-MLh_WO"
      },
      "source": [
        "### Application using the extracted data"
      ]
    },
    {
      "cell_type": "markdown",
      "metadata": {
        "id": "fvypiFU7h_WO"
      },
      "source": [
        "The extracted data may contain null values because all the videos may not have a title. So we added respective category name as it's title for the null values. "
      ]
    },
    {
      "cell_type": "code",
      "metadata": {
        "id": "KH27HDxWh_WP"
      },
      "source": [
        "import numpy as np"
      ],
      "execution_count": null,
      "outputs": []
    },
    {
      "cell_type": "code",
      "metadata": {
        "id": "dgX_Z-6rh_WP",
        "outputId": "ea1bfb9b-ca37-4b67-a439-f0f7744f39d6"
      },
      "source": [
        "df_travel = pd.read_csv(\"C:/Users/mssra/Downloads/travel.xls\")\n",
        "df_travel['title'] = df_travel['title'].replace(np.nan,'travel')\n",
        "df_travel.head()"
      ],
      "execution_count": null,
      "outputs": [
        {
          "output_type": "execute_result",
          "data": {
            "text/html": [
              "<div>\n",
              "<style scoped>\n",
              "    .dataframe tbody tr th:only-of-type {\n",
              "        vertical-align: middle;\n",
              "    }\n",
              "\n",
              "    .dataframe tbody tr th {\n",
              "        vertical-align: top;\n",
              "    }\n",
              "\n",
              "    .dataframe thead th {\n",
              "        text-align: right;\n",
              "    }\n",
              "</style>\n",
              "<table border=\"1\" class=\"dataframe\">\n",
              "  <thead>\n",
              "    <tr style=\"text-align: right;\">\n",
              "      <th></th>\n",
              "      <th>link</th>\n",
              "      <th>title</th>\n",
              "      <th>description</th>\n",
              "      <th>category</th>\n",
              "    </tr>\n",
              "  </thead>\n",
              "  <tbody>\n",
              "    <tr>\n",
              "      <th>0</th>\n",
              "      <td>4gKHovXSO0</td>\n",
              "      <td>travel</td>\n",
              "      <td>HOW DO YOU TRAVEL WITH SPEARGUNS &amp; DIVE GEAR!?...</td>\n",
              "      <td>Travel</td>\n",
              "    </tr>\n",
              "    <tr>\n",
              "      <th>1</th>\n",
              "      <td>8MzocnmCyQ</td>\n",
              "      <td>travel</td>\n",
              "      <td>Gobble Travel presents Bazaar Travels Season 1...</td>\n",
              "      <td>Travel</td>\n",
              "    </tr>\n",
              "    <tr>\n",
              "      <th>2</th>\n",
              "      <td>d84v3s94lvI</td>\n",
              "      <td>My Most Difficult Travel Experience in India 🥶...</td>\n",
              "      <td>These 13 hours were the hardest, scariest, and...</td>\n",
              "      <td>Travel</td>\n",
              "    </tr>\n",
              "    <tr>\n",
              "      <th>3</th>\n",
              "      <td>ZAPffTImBzY</td>\n",
              "      <td>travel</td>\n",
              "      <td>Kempegowda International Airport promises to h...</td>\n",
              "      <td>Travel</td>\n",
              "    </tr>\n",
              "    <tr>\n",
              "      <th>4</th>\n",
              "      <td>6Mc_SgLPqTk</td>\n",
              "      <td>Air India bonanza | Now, reschedule tickets bo...</td>\n",
              "      <td>Passengers who op to use the tickets, don't ev...</td>\n",
              "      <td>Travel</td>\n",
              "    </tr>\n",
              "  </tbody>\n",
              "</table>\n",
              "</div>"
            ],
            "text/plain": [
              "          link                                              title  \\\n",
              "0   4gKHovXSO0                                             travel   \n",
              "1   8MzocnmCyQ                                             travel   \n",
              "2  d84v3s94lvI  My Most Difficult Travel Experience in India 🥶...   \n",
              "3  ZAPffTImBzY                                             travel   \n",
              "4  6Mc_SgLPqTk  Air India bonanza | Now, reschedule tickets bo...   \n",
              "\n",
              "                                         description category  \n",
              "0  HOW DO YOU TRAVEL WITH SPEARGUNS & DIVE GEAR!?...   Travel  \n",
              "1  Gobble Travel presents Bazaar Travels Season 1...   Travel  \n",
              "2  These 13 hours were the hardest, scariest, and...   Travel  \n",
              "3  Kempegowda International Airport promises to h...   Travel  \n",
              "4  Passengers who op to use the tickets, don't ev...   Travel  "
            ]
          },
          "metadata": {
            "tags": []
          },
          "execution_count": 6
        }
      ]
    },
    {
      "cell_type": "code",
      "metadata": {
        "id": "V0_u42oCh_WP",
        "outputId": "633f9772-1f0b-418c-d240-cf909bbfaf6c"
      },
      "source": [
        "df_science = pd.read_csv(\"C:/Users/mssra/Downloads/science.xls\")\n",
        "df_science['title'] = df_science['title'].replace(np.nan,'science')\n",
        "df_science.head()"
      ],
      "execution_count": null,
      "outputs": [
        {
          "output_type": "execute_result",
          "data": {
            "text/html": [
              "<div>\n",
              "<style scoped>\n",
              "    .dataframe tbody tr th:only-of-type {\n",
              "        vertical-align: middle;\n",
              "    }\n",
              "\n",
              "    .dataframe tbody tr th {\n",
              "        vertical-align: top;\n",
              "    }\n",
              "\n",
              "    .dataframe thead th {\n",
              "        text-align: right;\n",
              "    }\n",
              "</style>\n",
              "<table border=\"1\" class=\"dataframe\">\n",
              "  <thead>\n",
              "    <tr style=\"text-align: right;\">\n",
              "      <th></th>\n",
              "      <th>link</th>\n",
              "      <th>title</th>\n",
              "      <th>description</th>\n",
              "      <th>category</th>\n",
              "    </tr>\n",
              "  </thead>\n",
              "  <tbody>\n",
              "    <tr>\n",
              "      <th>0</th>\n",
              "      <td>U8X-fd_zQQ</td>\n",
              "      <td>12 Cool Science Tricks That Will Make Your Fri...</td>\n",
              "      <td>Impress your friends this weekend with these 1...</td>\n",
              "      <td>Science</td>\n",
              "    </tr>\n",
              "    <tr>\n",
              "      <th>1</th>\n",
              "      <td>VoLZXXQL-YY</td>\n",
              "      <td>9 Incredible Science Facts You Probably Didn't...</td>\n",
              "      <td>Common scientific facts you won't believe are ...</td>\n",
              "      <td>Science</td>\n",
              "    </tr>\n",
              "    <tr>\n",
              "      <th>2</th>\n",
              "      <td>z-R3DShHbkA</td>\n",
              "      <td>EASY SCIENCE EXPERIMENTS FOR KIDS</td>\n",
              "      <td>EASY SCIENCE EXPERIMENTS FOR KIDS Awesome and ...</td>\n",
              "      <td>Science</td>\n",
              "    </tr>\n",
              "    <tr>\n",
              "      <th>3</th>\n",
              "      <td>OY6RgrDKQ</td>\n",
              "      <td>science</td>\n",
              "      <td>UNEXPECTED TRICKS AND IDEAS FOR KIDS\\n\\nThere ...</td>\n",
              "      <td>Science</td>\n",
              "    </tr>\n",
              "    <tr>\n",
              "      <th>4</th>\n",
              "      <td>kYJt5kWNsbM</td>\n",
              "      <td>science</td>\n",
              "      <td>Learn science with these exciting and fun vide...</td>\n",
              "      <td>Science</td>\n",
              "    </tr>\n",
              "  </tbody>\n",
              "</table>\n",
              "</div>"
            ],
            "text/plain": [
              "          link                                              title  \\\n",
              "0   U8X-fd_zQQ  12 Cool Science Tricks That Will Make Your Fri...   \n",
              "1  VoLZXXQL-YY  9 Incredible Science Facts You Probably Didn't...   \n",
              "2  z-R3DShHbkA                  EASY SCIENCE EXPERIMENTS FOR KIDS   \n",
              "3    OY6RgrDKQ                                            science   \n",
              "4  kYJt5kWNsbM                                            science   \n",
              "\n",
              "                                         description category  \n",
              "0  Impress your friends this weekend with these 1...  Science  \n",
              "1  Common scientific facts you won't believe are ...  Science  \n",
              "2  EASY SCIENCE EXPERIMENTS FOR KIDS Awesome and ...  Science  \n",
              "3  UNEXPECTED TRICKS AND IDEAS FOR KIDS\\n\\nThere ...  Science  \n",
              "4  Learn science with these exciting and fun vide...  Science  "
            ]
          },
          "metadata": {
            "tags": []
          },
          "execution_count": 9
        }
      ]
    },
    {
      "cell_type": "code",
      "metadata": {
        "id": "J-mmRwpIh_WP",
        "outputId": "415856e3-3558-4cb4-b1bf-868468b36525"
      },
      "source": [
        "df_food = pd.read_csv(\"C:/Users/mssra/Downloads/food.xls\")\n",
        "df_food['title'] = df_food['title'].replace(np.nan,'food')\n",
        "df_food.head()"
      ],
      "execution_count": null,
      "outputs": [
        {
          "output_type": "execute_result",
          "data": {
            "text/html": [
              "<div>\n",
              "<style scoped>\n",
              "    .dataframe tbody tr th:only-of-type {\n",
              "        vertical-align: middle;\n",
              "    }\n",
              "\n",
              "    .dataframe tbody tr th {\n",
              "        vertical-align: top;\n",
              "    }\n",
              "\n",
              "    .dataframe thead th {\n",
              "        text-align: right;\n",
              "    }\n",
              "</style>\n",
              "<table border=\"1\" class=\"dataframe\">\n",
              "  <thead>\n",
              "    <tr style=\"text-align: right;\">\n",
              "      <th></th>\n",
              "      <th>link</th>\n",
              "      <th>title</th>\n",
              "      <th>description</th>\n",
              "      <th>category</th>\n",
              "    </tr>\n",
              "  </thead>\n",
              "  <tbody>\n",
              "    <tr>\n",
              "      <th>0</th>\n",
              "      <td>LHr1na5DZ44</td>\n",
              "      <td>101 Indian Street Food Dishes to Eat Before Yo...</td>\n",
              "      <td>🧳 101 Indian Street Food Dishes Kindle Book: h...</td>\n",
              "      <td>Food</td>\n",
              "    </tr>\n",
              "    <tr>\n",
              "      <th>1</th>\n",
              "      <td>0SPwwpruGIA</td>\n",
              "      <td>42 Foods You Need To Eat Before You Die | The ...</td>\n",
              "      <td>This is the ultimate must-try food bucket list...</td>\n",
              "      <td>Food</td>\n",
              "    </tr>\n",
              "    <tr>\n",
              "      <th>2</th>\n",
              "      <td>x5nEb-7UKZI</td>\n",
              "      <td>Gordon Is Blown Away By Small Indian Restauran...</td>\n",
              "      <td>This week's full episode of Ramsay's Best rest...</td>\n",
              "      <td>Food</td>\n",
              "    </tr>\n",
              "    <tr>\n",
              "      <th>3</th>\n",
              "      <td>5N6vDAvECU4</td>\n",
              "      <td>INSANE Indian Street Food Tour of Kuala Lumpur...</td>\n",
              "      <td>MUST TRY Indian Street Food and Malay Street F...</td>\n",
              "      <td>Food</td>\n",
              "    </tr>\n",
              "    <tr>\n",
              "      <th>4</th>\n",
              "      <td>UJZ79XyFg</td>\n",
              "      <td>food</td>\n",
              "      <td>🎥STREET FOOD IN JAYAPURA, WEST PAPUA! » https:...</td>\n",
              "      <td>Food</td>\n",
              "    </tr>\n",
              "  </tbody>\n",
              "</table>\n",
              "</div>"
            ],
            "text/plain": [
              "          link                                              title  \\\n",
              "0  LHr1na5DZ44  101 Indian Street Food Dishes to Eat Before Yo...   \n",
              "1  0SPwwpruGIA  42 Foods You Need To Eat Before You Die | The ...   \n",
              "2  x5nEb-7UKZI  Gordon Is Blown Away By Small Indian Restauran...   \n",
              "3  5N6vDAvECU4  INSANE Indian Street Food Tour of Kuala Lumpur...   \n",
              "4    UJZ79XyFg                                               food   \n",
              "\n",
              "                                         description category  \n",
              "0  🧳 101 Indian Street Food Dishes Kindle Book: h...     Food  \n",
              "1  This is the ultimate must-try food bucket list...     Food  \n",
              "2  This week's full episode of Ramsay's Best rest...     Food  \n",
              "3  MUST TRY Indian Street Food and Malay Street F...     Food  \n",
              "4  🎥STREET FOOD IN JAYAPURA, WEST PAPUA! » https:...     Food  "
            ]
          },
          "metadata": {
            "tags": []
          },
          "execution_count": 10
        }
      ]
    },
    {
      "cell_type": "code",
      "metadata": {
        "id": "8xm8baBKh_WQ",
        "outputId": "f88a3778-0233-48b2-e89e-5e7a9d665be8"
      },
      "source": [
        "df_history = pd.read_csv(\"C:/Users/mssra/Downloads/history.xls\")\n",
        "df_history['title'] = df_history['title'].replace(np.nan,'history')\n",
        "df_history.head()"
      ],
      "execution_count": null,
      "outputs": [
        {
          "output_type": "execute_result",
          "data": {
            "text/html": [
              "<div>\n",
              "<style scoped>\n",
              "    .dataframe tbody tr th:only-of-type {\n",
              "        vertical-align: middle;\n",
              "    }\n",
              "\n",
              "    .dataframe tbody tr th {\n",
              "        vertical-align: top;\n",
              "    }\n",
              "\n",
              "    .dataframe thead th {\n",
              "        text-align: right;\n",
              "    }\n",
              "</style>\n",
              "<table border=\"1\" class=\"dataframe\">\n",
              "  <thead>\n",
              "    <tr style=\"text-align: right;\">\n",
              "      <th></th>\n",
              "      <th>link</th>\n",
              "      <th>title</th>\n",
              "      <th>description</th>\n",
              "      <th>category</th>\n",
              "    </tr>\n",
              "  </thead>\n",
              "  <tbody>\n",
              "    <tr>\n",
              "      <th>0</th>\n",
              "      <td>jmp8CoZBI</td>\n",
              "      <td>history</td>\n",
              "      <td>One Direction – History (Official Video)\\nFoll...</td>\n",
              "      <td>History</td>\n",
              "    </tr>\n",
              "    <tr>\n",
              "      <th>1</th>\n",
              "      <td>H6d0Emmz9A4</td>\n",
              "      <td>history</td>\n",
              "      <td>Here Are Some Of The Funniest Moments In Sport...</td>\n",
              "      <td>History</td>\n",
              "    </tr>\n",
              "    <tr>\n",
              "      <th>2</th>\n",
              "      <td>PSnxA5HREg</td>\n",
              "      <td>history</td>\n",
              "      <td>Ancient History of India in Hindi |indian hist...</td>\n",
              "      <td>History</td>\n",
              "    </tr>\n",
              "    <tr>\n",
              "      <th>3</th>\n",
              "      <td>WltJPKFo_J4</td>\n",
              "      <td>history</td>\n",
              "      <td>This is the first part of The History of the W...</td>\n",
              "      <td>History</td>\n",
              "    </tr>\n",
              "    <tr>\n",
              "      <th>4</th>\n",
              "      <td>FeJKJ5MoCHY</td>\n",
              "      <td>10 TOP Natural History Moments | BBC Earth</td>\n",
              "      <td>This Earth Day, stay in and explore the beauty...</td>\n",
              "      <td>History</td>\n",
              "    </tr>\n",
              "  </tbody>\n",
              "</table>\n",
              "</div>"
            ],
            "text/plain": [
              "          link                                       title  \\\n",
              "0    jmp8CoZBI                                     history   \n",
              "1  H6d0Emmz9A4                                     history   \n",
              "2   PSnxA5HREg                                     history   \n",
              "3  WltJPKFo_J4                                     history   \n",
              "4  FeJKJ5MoCHY  10 TOP Natural History Moments | BBC Earth   \n",
              "\n",
              "                                         description category  \n",
              "0  One Direction – History (Official Video)\\nFoll...  History  \n",
              "1  Here Are Some Of The Funniest Moments In Sport...  History  \n",
              "2  Ancient History of India in Hindi |indian hist...  History  \n",
              "3  This is the first part of The History of the W...  History  \n",
              "4  This Earth Day, stay in and explore the beauty...  History  "
            ]
          },
          "metadata": {
            "tags": []
          },
          "execution_count": 15
        }
      ]
    },
    {
      "cell_type": "code",
      "metadata": {
        "id": "veRU54Mbh_WQ"
      },
      "source": [
        "df_gaming = pd.read_csv(\"C:/Users/mssra/Downloads/gaming.xls\")\n",
        "df_gaming['title'] = df_gaming['title'].replace(np.nan,'gaming')\n",
        "df_gaming.head()"
      ],
      "execution_count": null,
      "outputs": []
    },
    {
      "cell_type": "code",
      "metadata": {
        "id": "fc0BM2UMh_WQ"
      },
      "source": [
        "df_artndance = pd.read_csv(\"C:/Users/mssra/Downloads/artndance.xls\")\n",
        "df_artndance['title'] = df_artndance['title'].replace(np.nan,'artndance')\n",
        "df_artndance.head()"
      ],
      "execution_count": null,
      "outputs": []
    },
    {
      "cell_type": "code",
      "metadata": {
        "id": "SPtCtsQuh_WR"
      },
      "source": [
        "min_size = min(len(df_travel),len(df_science),len(df_food),len(df_history),len(df_gaming),len(df_artndance))"
      ],
      "execution_count": null,
      "outputs": []
    },
    {
      "cell_type": "code",
      "metadata": {
        "id": "XNr63Uygh_WR",
        "outputId": "70cfbac6-b144-4e29-f3d7-b0e2fe94f2ba"
      },
      "source": [
        "min_size"
      ],
      "execution_count": null,
      "outputs": [
        {
          "output_type": "execute_result",
          "data": {
            "text/plain": [
              "413"
            ]
          },
          "metadata": {
            "tags": []
          },
          "execution_count": 19
        }
      ]
    },
    {
      "cell_type": "code",
      "metadata": {
        "id": "J0iOjdDmds-w"
      },
      "source": [
        "frames = [df_travel[:min_size], df_science[:min_size], df_food[:min_size], df_history[:min_size], df_gaming[:min_size], df_artndance[:min_size]]\n",
        "df_copy = pd.concat(frames, axis=0, join='outer', join_axes=None, ignore_index=True,\n",
        "                            keys=None, levels=None, names=None, verify_integrity=False, copy=True)"
      ],
      "execution_count": null,
      "outputs": []
    },
    {
      "cell_type": "code",
      "metadata": {
        "id": "WmWCQi0Pds-z",
        "outputId": "ee4e08dc-020c-4889-9ba1-8d9c87dae6a9"
      },
      "source": [
        "len(df_copy)"
      ],
      "execution_count": null,
      "outputs": [
        {
          "output_type": "execute_result",
          "data": {
            "text/plain": [
              "2478"
            ]
          },
          "metadata": {
            "tags": []
          },
          "execution_count": 21
        }
      ]
    },
    {
      "cell_type": "code",
      "metadata": {
        "id": "SlWs_H31ds-3"
      },
      "source": [
        "df_link = pd.DataFrame(columns = [\"link\"])        \n",
        "df_title = pd.DataFrame(columns = [\"title\"])        \n",
        "df_description = pd.DataFrame(columns = [\"description\"])        \n",
        "df_category = pd.DataFrame(columns = [\"category\"])        \n",
        "df_link['link'] = df_copy['link'] \n",
        "df_title ['title']= df_copy['title'] \n",
        "df_description['description'] = df_copy['description'] \n",
        "df_category['category'] = df_copy['category']"
      ],
      "execution_count": null,
      "outputs": []
    },
    {
      "cell_type": "markdown",
      "metadata": {
        "id": "lAvhdJLNgX1W"
      },
      "source": [
        "__Cleaning the Scraped Data using the NLTK Library__"
      ]
    },
    {
      "cell_type": "markdown",
      "metadata": {
        "id": "6R5spa2cghLL"
      },
      "source": [
        "Import the required libraries first:"
      ]
    },
    {
      "cell_type": "code",
      "metadata": {
        "id": "WGobSbvwds-6",
        "outputId": "7b9ba1a3-6b48-4c9b-d399-81a913a3f758"
      },
      "source": [
        "import re \n",
        "import nltk \n",
        "nltk.download('stopwords') \n",
        "from nltk.corpus import stopwords \n",
        "from nltk.stem.porter import PorterStemmer"
      ],
      "execution_count": null,
      "outputs": [
        {
          "output_type": "stream",
          "text": [
            "[nltk_data] Downloading package stopwords to\n",
            "[nltk_data]     C:\\Users\\mssra\\AppData\\Roaming\\nltk_data...\n",
            "[nltk_data]   Package stopwords is already up-to-date!\n"
          ],
          "name": "stderr"
        }
      ]
    },
    {
      "cell_type": "code",
      "metadata": {
        "id": "IzFyEcVDds--",
        "outputId": "2ff25474-e7e0-4f69-93b3-aaa34476c4aa"
      },
      "source": [
        "len(df_title)"
      ],
      "execution_count": null,
      "outputs": [
        {
          "output_type": "execute_result",
          "data": {
            "text/plain": [
              "2478"
            ]
          },
          "metadata": {
            "tags": []
          },
          "execution_count": 24
        }
      ]
    },
    {
      "cell_type": "code",
      "metadata": {
        "id": "jTTOYhjNds_C"
      },
      "source": [
        "corpus = []        \n",
        "for i in range(0, len(df_title)):\n",
        "    if type(df_title['title'][i])==str :\n",
        "      review = re.sub(\"[^a-zA-Z]\",' ', df_title['title'][i])            \n",
        "      review = review.lower()            \n",
        "      review = review.split()            \n",
        "      ps = PorterStemmer()            \n",
        "      review = [ps.stem(word) for word in review if not word in set(stopwords.words('english'))]            \n",
        "      review = ' '.join(review)            \n",
        "      corpus.append(review)  "
      ],
      "execution_count": null,
      "outputs": []
    },
    {
      "cell_type": "code",
      "metadata": {
        "id": "Btj00AHgds_E",
        "outputId": "01cfd58f-a633-4b03-e5df-7a82c9ddab05"
      },
      "source": [
        "print(len(corpus))\n",
        "corpus[:5]"
      ],
      "execution_count": null,
      "outputs": [
        {
          "output_type": "stream",
          "text": [
            "2478\n"
          ],
          "name": "stdout"
        },
        {
          "output_type": "execute_result",
          "data": {
            "text/plain": [
              "['travel',\n",
              " 'travel',\n",
              " 'difficult travel experi india donttrythi',\n",
              " 'travel',\n",
              " 'air india bonanza reschedul ticket book travel lockdown extra cost']"
            ]
          },
          "metadata": {
            "tags": []
          },
          "execution_count": 79
        }
      ]
    },
    {
      "cell_type": "code",
      "metadata": {
        "id": "5J3niZWnds_I",
        "outputId": "d61cc69b-472b-4cf2-a0fa-ca85454db8f4"
      },
      "source": [
        "len(df_description)"
      ],
      "execution_count": null,
      "outputs": [
        {
          "output_type": "execute_result",
          "data": {
            "text/plain": [
              "2478"
            ]
          },
          "metadata": {
            "tags": []
          },
          "execution_count": 27
        }
      ]
    },
    {
      "cell_type": "code",
      "metadata": {
        "id": "AYbgDcshds_M"
      },
      "source": [
        "corpus1 = [] \n",
        "for i in range(0, len(df_description)):        \n",
        "    if type(df_description['description'][i])==str:\n",
        "      review = re.sub('[^a-zA-Z]', ' ', df_description['description'][i])            \n",
        "      review = review.lower()            \n",
        "      review = review.split()            \n",
        "      ps = PorterStemmer()            \n",
        "      review = [ps.stem(word) for word in review if not word in set(stopwords.words('english'))]            \n",
        "      review = ' '.join(review)            \n",
        "      corpus1.append(review)"
      ],
      "execution_count": null,
      "outputs": []
    },
    {
      "cell_type": "code",
      "metadata": {
        "id": "SRReMM8fds_P",
        "outputId": "79a48822-722a-4dd6-9731-472855055bb2"
      },
      "source": [
        "corpus1[:1]"
      ],
      "execution_count": null,
      "outputs": [
        {
          "output_type": "execute_result",
          "data": {
            "text/plain": [
              "['travel speargun dive gear one question get ask time hope help next oversea spearfish dive trip bing watch b b best episod']"
            ]
          },
          "metadata": {
            "tags": []
          },
          "execution_count": 29
        }
      ]
    },
    {
      "cell_type": "code",
      "metadata": {
        "id": "kTj0FoALds_S"
      },
      "source": [
        "dftitle = pd.DataFrame({'title':corpus})\n",
        "dfdescription = pd.DataFrame({'description':corpus1})"
      ],
      "execution_count": null,
      "outputs": []
    },
    {
      "cell_type": "markdown",
      "metadata": {
        "id": "uf8MpQTGg7xy"
      },
      "source": [
        "The “LabelEncoder()” function encodes labels with a value between 0 and n_classes – 1 where n is the number of distinct labels."
      ]
    },
    {
      "cell_type": "code",
      "metadata": {
        "id": "90ivJuPUds_W"
      },
      "source": [
        "from sklearn.preprocessing import LabelEncoder\n",
        "dfcategory = df_category.apply(LabelEncoder().fit_transform)\n",
        "dfcategory"
      ],
      "execution_count": null,
      "outputs": []
    },
    {
      "cell_type": "markdown",
      "metadata": {
        "id": "gcPWQr3RhD80"
      },
      "source": [
        "Here, we have applied label encoding on df_category and stored the result into dfcategory. We can store our cleaned and encoded data in into a new dataframe:"
      ]
    },
    {
      "cell_type": "code",
      "metadata": {
        "id": "t3gXKZw1ds_a"
      },
      "source": [
        "df_new = pd.concat([df_link, dftitle, dfdescription, dfcategory], axis=1, join_axes = [df_link.index])\n",
        "df_new"
      ],
      "execution_count": null,
      "outputs": []
    },
    {
      "cell_type": "markdown",
      "metadata": {
        "id": "vbN1bcOFhT3q"
      },
      "source": [
        "We should create a bag-of-words so that our model can understand the keywords from that bag to classify videos accordingly. Here’s the code to do create a bag-of-words:"
      ]
    },
    {
      "cell_type": "code",
      "metadata": {
        "id": "eIMkRdGQds_e"
      },
      "source": [
        "from sklearn.feature_extraction.text import CountVectorizer   \n",
        "cv = CountVectorizer(max_features = 1500) \n",
        "X = cv.fit_transform(corpus, corpus1).toarray() \n",
        "y = df_new.iloc[:, 3].values"
      ],
      "execution_count": null,
      "outputs": []
    },
    {
      "cell_type": "markdown",
      "metadata": {
        "id": "xVO6bKZzheY-"
      },
      "source": [
        "__Building our Model to Classify YouTube Videos__<br>\n",
        "Before we build our model, we need to divide the data into training set and test set"
      ]
    },
    {
      "cell_type": "code",
      "metadata": {
        "id": "lN7lZ90Ods_i"
      },
      "source": [
        "from sklearn.model_selection import train_test_split\n",
        "X_train, X_test, y_train, y_test = train_test_split(X, y, test_size = 0.20, random_state = 0)"
      ],
      "execution_count": null,
      "outputs": []
    },
    {
      "cell_type": "markdown",
      "metadata": {
        "id": "r5DtKl_phsD1"
      },
      "source": [
        "__Random Forest Algorithm__"
      ]
    },
    {
      "cell_type": "code",
      "metadata": {
        "id": "enQQhQ5Ads_0",
        "outputId": "57fa2897-e8eb-4fc0-e56d-00081f28a19f"
      },
      "source": [
        "from sklearn.ensemble import RandomForestClassifier\n",
        "classifier = RandomForestClassifier(n_estimators = 100,criterion = 'entropy',max_features=6)\n",
        "classifier.fit(X_train, y_train)"
      ],
      "execution_count": null,
      "outputs": [
        {
          "output_type": "execute_result",
          "data": {
            "text/plain": [
              "RandomForestClassifier(bootstrap=True, class_weight=None, criterion='entropy',\n",
              "            max_depth=None, max_features=6, max_leaf_nodes=None,\n",
              "            min_impurity_decrease=0.0, min_impurity_split=None,\n",
              "            min_samples_leaf=1, min_samples_split=2,\n",
              "            min_weight_fraction_leaf=0.0, n_estimators=100, n_jobs=None,\n",
              "            oob_score=False, random_state=None, verbose=0,\n",
              "            warm_start=False)"
            ]
          },
          "metadata": {
            "tags": []
          },
          "execution_count": 71
        }
      ]
    },
    {
      "cell_type": "markdown",
      "metadata": {
        "id": "XurdjDS1h2LG"
      },
      "source": [
        "Parameters:<br>\n",
        "n_estimators: The number of trees in the forest<br>\n",
        "criterion: The function to measure the quality of a split. Supported criteria are “gini” for Gini impurity and “entropy” for information gain<br>\n",
        "\n",
        "Performance of our model on the test set:"
      ]
    },
    {
      "cell_type": "code",
      "metadata": {
        "id": "hZtv4eUads_7",
        "outputId": "7392ed31-85e8-47d9-81a1-88e2cecc3524"
      },
      "source": [
        "y_pred = classifier.predict(X_test)\n",
        "classifier.score(X_test, y_test)"
      ],
      "execution_count": null,
      "outputs": [
        {
          "output_type": "execute_result",
          "data": {
            "text/plain": [
              "0.9899193548387096"
            ]
          },
          "metadata": {
            "tags": []
          },
          "execution_count": 72
        }
      ]
    },
    {
      "cell_type": "code",
      "metadata": {
        "id": "ovtc2ll1dtAB",
        "outputId": "990c5aa3-560c-4a66-b68a-8c066d602a9d"
      },
      "source": [
        "from sklearn.metrics import classification_report\n",
        "print(classification_report(y_test, y_pred))"
      ],
      "execution_count": null,
      "outputs": [
        {
          "output_type": "stream",
          "text": [
            "              precision    recall  f1-score   support\n",
            "\n",
            "           0       0.98      0.99      0.98        80\n",
            "           1       0.98      0.99      0.98        87\n",
            "           2       1.00      1.00      1.00        85\n",
            "           3       1.00      1.00      1.00        84\n",
            "           4       1.00      0.97      0.98        86\n",
            "           5       0.99      1.00      0.99        74\n",
            "\n",
            "   micro avg       0.99      0.99      0.99       496\n",
            "   macro avg       0.99      0.99      0.99       496\n",
            "weighted avg       0.99      0.99      0.99       496\n",
            "\n"
          ],
          "name": "stdout"
        }
      ]
    },
    {
      "cell_type": "code",
      "metadata": {
        "id": "vAS0H1D5dtAJ"
      },
      "source": [
        "from sklearn.metrics import classification_report, confusion_matrix\n",
        "import itertools\n",
        "import pandas as pd\n",
        "import pprint\n",
        "import pylab as pl\n",
        "import numpy as np\n",
        "import scipy.optimize as opt\n",
        "from sklearn import preprocessing \n",
        "import matplotlib.pyplot as plt\n",
        "\n",
        "def plot_confusion_matrix(cm, classes,\n",
        "                          normalize=False,\n",
        "                          title='Confusion matrix',\n",
        "                          cmap=plt.cm.Purples):\n",
        "  \n",
        "    if normalize:\n",
        "        cm = cm.astype('float') / cm.sum(axis=1)[:, np.newaxis]\n",
        "        print(\"Normalized confusion matrix\")\n",
        "    else:\n",
        "        print('Confusion matrix, without normalization')\n",
        "\n",
        "    print(cm)\n",
        "\n",
        "    plt.imshow(cm, interpolation='nearest', cmap=cmap)\n",
        "    plt.title(title)\n",
        "    plt.colorbar()\n",
        "    tick_marks = np.arange(len(classes))\n",
        "    plt.xticks(tick_marks, classes, rotation=45)\n",
        "    plt.yticks(tick_marks, classes)\n",
        "\n",
        "    fmt = '.2f' if normalize else 'd'\n",
        "    thresh = cm.max() / 2.\n",
        "    for i, j in itertools.product(range(cm.shape[0]), range(cm.shape[1])):\n",
        "        plt.text(j, i, format(cm[i, j], fmt),\n",
        "                 horizontalalignment=\"center\",\n",
        "                 color=\"white\" if cm[i, j] > thresh else \"black\")\n",
        "\n",
        "    plt.tight_layout()\n",
        "    plt.ylabel('True label')\n",
        "    plt.xlabel('Predicted label')"
      ],
      "execution_count": null,
      "outputs": []
    },
    {
      "cell_type": "code",
      "metadata": {
        "id": "JX9HfPH-dtAM",
        "outputId": "de602fb8-7d22-44dd-9166-b7eb0e9ec827"
      },
      "source": [
        "plt.figure()\n",
        "plot_confusion_matrix(cm, classes=['1','2','3','4','5','6'],normalize= False,  title='Confusion matrix')"
      ],
      "execution_count": null,
      "outputs": [
        {
          "output_type": "stream",
          "text": [
            "Confusion matrix, without normalization\n",
            "[[79  1  0  0  0  0]\n",
            " [ 1 86  0  0  0  0]\n",
            " [ 0  0 85  0  0  0]\n",
            " [ 0  0  0 84  0  0]\n",
            " [ 1  1  0  0 83  1]\n",
            " [ 0  0  0  0  0 74]]\n"
          ],
          "name": "stdout"
        },
        {
          "output_type": "display_data",
          "data": {
            "image/png": "[encoded data removed]",
            "text/plain": [
              "<Figure size 432x288 with 2 Axes>"
            ]
          },
          "metadata": {
            "tags": [],
            "needs_background": "light"
          }
        }
      ]
    },
    {
      "cell_type": "markdown",
      "metadata": {
        "id": "JfXDlAJOh_WX"
      },
      "source": [
        "__Storing the data in the local device:__<br>\n",
        "The final data in the dataframe is saved as a csv file in the prescribed file directory using pandas library function .to_csv."
      ]
    },
    {
      "cell_type": "code",
      "metadata": {
        "id": "vyATE3Aih_WX"
      },
      "source": [
        "df = pd.DataFrame(df_new, columns= ['link','title','description','category'])\n",
        "df.to_csv (r'C:/Users/mssra/OneDrive/Desktop/file2.csv', index = False, header=True)"
      ],
      "execution_count": null,
      "outputs": []
    },
    {
      "cell_type": "markdown",
      "metadata": {
        "id": "s3DOCTTTh_WX"
      },
      "source": [
        "__Accuracy of the model__"
      ]
    },
    {
      "cell_type": "code",
      "metadata": {
        "id": "usQHdLCwdtAQ",
        "outputId": "bf6f333e-b736-4d46-d541-c6d5027ece83"
      },
      "source": [
        "from sklearn.metrics import accuracy_score\n",
        "accuracy_score(y_test, y_pred)"
      ],
      "execution_count": null,
      "outputs": [
        {
          "output_type": "execute_result",
          "data": {
            "text/plain": [
              "0.9899193548387096"
            ]
          },
          "metadata": {
            "tags": []
          },
          "execution_count": 78
        }
      ]
    },
    {
      "cell_type": "markdown",
      "metadata": {
        "id": "pD9cEAeFh_WX"
      },
      "source": [
        "__Result:__<br>\n",
        "Therefore our Random Forest Classifier model accquired an accuracy of 99% by taking the scrapped data as input and the output is the category to which the video may belong to."
      ]
    }
  ]
}